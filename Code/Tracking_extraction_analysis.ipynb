{
 "cells": [
  {
   "cell_type": "markdown",
   "metadata": {},
   "source": [
    "# Scraping Statistics from www.trackcorona.live/"
   ]
  },
  {
   "cell_type": "code",
   "execution_count": 1,
   "metadata": {
    "scrolled": true
   },
   "outputs": [
    {
     "name": "stdout",
     "output_type": "stream",
     "text": [
      "Requirement already satisfied: cloudscraper in c:\\softwares\\anaconda3\\lib\\site-packages (1.2.28)\n",
      "Requirement already satisfied: requests>=2.9.2 in c:\\softwares\\anaconda3\\lib\\site-packages (from cloudscraper) (2.22.0)\n",
      "Requirement already satisfied: requests-toolbelt>=0.9.1 in c:\\softwares\\anaconda3\\lib\\site-packages (from cloudscraper) (0.9.1)\n",
      "Requirement already satisfied: idna<2.9,>=2.5 in c:\\softwares\\anaconda3\\lib\\site-packages (from requests>=2.9.2->cloudscraper) (2.8)\n",
      "Requirement already satisfied: chardet<3.1.0,>=3.0.2 in c:\\softwares\\anaconda3\\lib\\site-packages (from requests>=2.9.2->cloudscraper) (3.0.4)\n",
      "Requirement already satisfied: urllib3!=1.25.0,!=1.25.1,<1.26,>=1.21.1 in c:\\softwares\\anaconda3\\lib\\site-packages (from requests>=2.9.2->cloudscraper) (1.24.2)\n",
      "Requirement already satisfied: certifi>=2017.4.17 in c:\\softwares\\anaconda3\\lib\\site-packages (from requests>=2.9.2->cloudscraper) (2019.6.16)\n"
     ]
    }
   ],
   "source": [
    "!pip install cloudscraper"
   ]
  },
  {
   "cell_type": "code",
   "execution_count": 2,
   "metadata": {},
   "outputs": [],
   "source": [
    "import requests\n",
    "import cloudscraper\n",
    "from bs4 import BeautifulSoup\n",
    "import re\n",
    "import pandas as pd\n",
    "import time\n",
    "import datetime"
   ]
  },
  {
   "cell_type": "markdown",
   "metadata": {},
   "source": [
    "TOTAL STATISTICS"
   ]
  },
  {
   "cell_type": "code",
   "execution_count": 3,
   "metadata": {},
   "outputs": [
    {
     "name": "stdout",
     "output_type": "stream",
     "text": [
      "====================\n",
      "Updated Last: 02:16:10\n",
      "====================\n",
      "Time consumed 0.6687381267547607 seconds\n",
      "Confirmed Cases: 367416\n",
      "Dead: 16102\n",
      "Recovered: 100572\n",
      "Active Cases: 250742\n",
      "Death Rate: 4.38%\n",
      "Recovery Rate: 27.37%\n",
      "Countries Affected: 192/195\n",
      "----------------------------------------------------------------------------------------------------------------------\n"
     ]
    }
   ],
   "source": [
    "#DATA EXTRACTION\n",
    "start_time = time.time()\n",
    "now = datetime.datetime.now()\n",
    "import cloudscraper\n",
    "\n",
    "\n",
    "scraper = cloudscraper.create_scraper()\n",
    "html = scraper.get(\"https://www.trackcorona.live/\").text\n",
    "data = BeautifulSoup(html, 'html.parser')\n",
    "li=data.find_all(class_='numbers')\n",
    "\n",
    "\n",
    "\n",
    "confirmed = int(li[0].get_text())\n",
    "countries = li[1].get_text()\n",
    "dead = int(li[3].get_text())\n",
    "deathRate = li[4].get_text()\n",
    "recovered = int(li[6].get_text())\n",
    "recoveryRate = li[7].get_text()\n",
    "active= confirmed-(recovered+dead)\n",
    "\n",
    "print('====================')\n",
    "print('Updated Last:',now.strftime(\"%H:%M:%S\") )\n",
    "print('====================')\n",
    "print(\"Time consumed %s seconds\" % (time.time() - start_time))\n",
    "print('Confirmed Cases:',confirmed)\n",
    "print('Dead:',dead)\n",
    "print('Recovered:',recovered)\n",
    "print('Active Cases:',active)\n",
    "print('Death Rate:',deathRate)\n",
    "print('Recovery Rate:',recoveryRate)\n",
    "print('Countries Affected:',countries)\n",
    "print('----------------------------------------------------------------------------------------------------------------------')\n",
    "#     time.sleep(update_in*3600)"
   ]
  },
  {
   "cell_type": "code",
   "execution_count": 6,
   "metadata": {},
   "outputs": [
    {
     "name": "stdout",
     "output_type": "stream",
     "text": [
      "{'Confirmed': 367416, 'Dead': 16102, 'Recovered': 100572, 'Active': 250742}\n"
     ]
    }
   ],
   "source": [
    "#DATA PREPARATION\n",
    "\n",
    "#Saving Total Values in  a dictionary for plotting\n",
    "\n",
    "dict={\n",
    "    \"Confirmed\": confirmed,\n",
    "    \"Dead\": dead,\n",
    "    \"Recovered\": recovered,\n",
    "    \"Active\": active\n",
    "}\n",
    "\n",
    "print (dict)\n"
   ]
  },
  {
   "cell_type": "code",
   "execution_count": 7,
   "metadata": {},
   "outputs": [
    {
     "data": {
      "text/plain": [
       "<BarContainer object of 4 artists>"
      ]
     },
     "execution_count": 7,
     "metadata": {},
     "output_type": "execute_result"
    },
    {
     "data": {
      "image/png": "[encoded data removed]",
      "text/plain": [
       "<Figure size 720x432 with 1 Axes>"
      ]
     },
     "metadata": {
      "needs_background": "light"
     },
     "output_type": "display_data"
    }
   ],
   "source": [
    "#DATA ANALYSIS\n",
    "\n",
    "import matplotlib.pylab as plt\n",
    "\n",
    "names = list(dict.keys())\n",
    "values = list(dict.values())\n",
    "\n",
    "plt.figure(figsize=(10, 6))\n",
    "plt.bar(range(len(dict)),values,tick_label=names,color=['black', 'red', 'green', 'blue'])\n"
   ]
  },
  {
   "cell_type": "markdown",
   "metadata": {},
   "source": [
    "COUNTRY-WISE STATISTICS"
   ]
  },
  {
   "cell_type": "code",
   "execution_count": 8,
   "metadata": {},
   "outputs": [],
   "source": [
    "#DATA EXTRACTION\n",
    "\n",
    "#List of affected countries\n",
    "countryCells=data.select('td[style*=\"vertical-align: middle\"]')\n",
    "\n",
    "countryList=[]\n",
    "totalCountries=len(countryCells)\n",
    "a=0\n",
    "\n",
    "while a<totalCountries:\n",
    "    countryName=countryCells[a].text\n",
    "    countryList.append(countryName)\n",
    "    a=a+1\n",
    "    \n",
    "#List of Confirmed Cases\n",
    "confirmedCases=data.find_all(class_='comma-num numbers confirmed')\n",
    "\n",
    "confirmedList=[]\n",
    " \n",
    "for i in confirmedCases:\n",
    "    confirmedCounts= int(i.get_text())\n",
    "    confirmedList.append(confirmedCounts)\n",
    "\n",
    "#List of Dead Cases    \n",
    "deadCases=data.find_all(class_=\"d-lg-table-cell comma-num numbers dead\")\n",
    "\n",
    "deadList=[]\n",
    "\n",
    "for j in deadCases:\n",
    "    deadCounts= int(j.get_text())\n",
    "    deadList.append(deadCounts)    \n",
    "    \n",
    "#List of Recovered Cases\n",
    "recoveredCases=data.find_all(class_=\"d-lg-table-cell comma-num numbers recovered\")\n",
    "\n",
    "recoveredList=[]\n",
    "\n",
    "for k in recoveredCases:\n",
    "    recoveredCounts= int(k.get_text())\n",
    "    recoveredList.append(recoveredCounts)\n",
    "    \n",
    "        "
   ]
  },
  {
   "cell_type": "code",
   "execution_count": 9,
   "metadata": {},
   "outputs": [],
   "source": [
    "# DATA PREPARATION\n",
    "\n",
    "import pandas as pd\n",
    "\n",
    "df = pd.DataFrame({'Country_name': countryList,\n",
    "'Confirmed_cases': confirmedList,\n",
    "'Dead_cases': deadList,\n",
    "'Recovered_cases': recoveredList,\n",
    "})\n",
    "\n",
    "df.to_csv('Stats.csv') \n"
   ]
  },
  {
   "cell_type": "code",
   "execution_count": null,
   "metadata": {},
   "outputs": [],
   "source": []
  }
 ],
 "metadata": {
  "kernelspec": {
   "display_name": "Python 3",
   "language": "python",
   "name": "python3"
  },
  "language_info": {
   "codemirror_mode": {
    "name": "ipython",
    "version": 3
   },
   "file_extension": ".py",
   "mimetype": "text/x-python",
   "name": "python",
   "nbconvert_exporter": "python",
   "pygments_lexer": "ipython3",
   "version": "3.7.3"
  }
 },
 "nbformat": 4,
 "nbformat_minor": 2
}
