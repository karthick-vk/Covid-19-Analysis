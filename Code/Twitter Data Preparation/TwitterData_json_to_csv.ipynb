{
 "cells": [
  {
   "cell_type": "code",
   "execution_count": 9,
   "metadata": {},
   "outputs": [
    {
     "name": "stdout",
     "output_type": "stream",
     "text": [
      "Requirement already satisfied: emoji in d:\\anaconda\\lib\\site-packages (0.5.4)\n"
     ]
    }
   ],
   "source": [
    "import pandas as pd\n",
    "import re\n",
    "import json\n",
    "!pip install emoji"
   ]
  },
  {
   "cell_type": "code",
   "execution_count": 3,
   "metadata": {},
   "outputs": [],
   "source": [
    "df = pd.read_json (r'CoronaTwitterData.json')\n",
    "df1 = pd.read_json (r'CoronaTwitterData2.json')\n"
   ]
  },
  {
   "cell_type": "code",
   "execution_count": null,
   "metadata": {},
   "outputs": [],
   "source": [
    "df.to_csv (r'CoronaTwitterData.csv', index = None)\n",
    "df1.to_csv (r'CoronaTwitterData2.csv', index = None)"
   ]
  },
  {
   "cell_type": "code",
   "execution_count": 4,
   "metadata": {},
   "outputs": [],
   "source": []
  },
  {
   "cell_type": "code",
   "execution_count": null,
   "metadata": {},
   "outputs": [],
   "source": []
  },
  {
   "cell_type": "code",
   "execution_count": 48,
   "metadata": {},
   "outputs": [
    {
     "name": "stdout",
     "output_type": "stream",
     "text": [
      "Requirement already satisfied: emoji in d:\\anaconda\\lib\\site-packages (0.5.4)\n"
     ]
    }
   ],
   "source": [
    "df2 = pd.read_excel('tweetscopy.xlsx',sheetname='Sheet1',encoding='utf-8')\n",
    "new_tweets=[]\n",
    "for tweet in df2['tweets']:\n",
    "    tweet = re.sub('RT @[\\w_]+: ', '', tweet)\n",
    "    new_tweets.append(tweet)\n",
    "df2['new_tweets'] = new_tweets\n",
    "df2['new_tweets'].drop_duplicates(inplace=True)\n",
    "df2['new_tweets'].count()\n",
    "df2.to_excel('covidnew1.xlsx',encoding='utf-8')"
   ]
  },
  {
   "cell_type": "code",
   "execution_count": 47,
   "metadata": {},
   "outputs": [],
   "source": [
    "df3 = pd.read_excel('tweets2.xlsx',sheetname='Sheet1',encoding='utf-8')\n",
    "new_tweets2=[]\n",
    "for tweet in df3['full_text']:\n",
    "    tweet = re.sub('RT @[\\w_]+: ', '', tweet)\n",
    "    new_tweets2.append(tweet)\n",
    "df3['new_tweets'] = new_tweets2\n",
    "df3['new_tweets'].drop_duplicates(inplace=True)\n",
    "df3['new_tweets'].count()\n",
    "df3.to_excel('covidnew2.xlsx',encoding='utf-8')"
   ]
  },
  {
   "cell_type": "code",
   "execution_count": 2,
   "metadata": {},
   "outputs": [],
   "source": [
    "#import pandas as pd\n",
    "df4 = pd.read_json (r'OneDrive_2020-03-18/Raw data/WorldLeaders/CoronaTwitterData-BorisJohnson-UK.json')\n",
    "df4.to_csv (r'CoronaTwitterData-BorisJohnson-UK.csv', index = None)\n",
    "df5 = pd.read_json (r'OneDrive_2020-03-18/Raw data/WorldLeaders/CoronaTwitterData-EmmanuelMacron-Franc.json')\n",
    "df5.to_csv (r'CoronaTwitterData-EmmanuelMacron-Franc.csv', index = None)\n",
    "df6 = pd.read_json (r'OneDrive_2020-03-18/Raw data/WorldLeaders/CoronaTwitterData-Jokowi-Indonasia.json')\n",
    "df6.to_csv (r'CoronaTwitterData-Jokowi-Indonasia.csv', index = None)\n",
    "df7 = pd.read_json (r'OneDrive_2020-03-18/Raw data/WorldLeaders/CoronaTwitterData-JustinTrudeau-canada.json')\n",
    "df7.to_csv (r'CoronaTwitterData-JustinTrudeau-canada.csv', index = None)\n",
    "df8 = pd.read_json (r'OneDrive_2020-03-18/Raw data/WorldLeaders/CoronaTwitterData-KingSalman-SaudiArab.json')\n",
    "df8.to_csv (r'CoronaTwitterData-KingSalman-SaudiArab.csv', index = None)\n",
    "df9 = pd.read_json (r'OneDrive_2020-03-18/Raw data/WorldLeaders/CoronaTwitterData-lopezobrador_mexico.json')\n",
    "df9.to_csv (r'CoronaTwitterData-lopezobrador_mexico.csv', index = None)\n",
    "df10 = pd.read_json (r'OneDrive_2020-03-18/Raw data/WorldLeaders/CoronaTwitterData-MohmamedBinZayed-UAE.json')\n",
    "df10.to_csv (r'CoronaTwitterData-MohmamedBinZayed-UAE.csv', index = None)\n",
    "df11 = pd.read_json (r'OneDrive_2020-03-18/Raw data/WorldLeaders/CoronaTwitterData-narendramodi.json')\n",
    "df11.to_csv (r'CoronaTwitterData-narendramodi.csv', index = None)\n",
    "df12 = pd.read_json (r'OneDrive_2020-03-18/Raw data/WorldLeaders/CoronaTwitterData-Pontifex-pop.json')\n",
    "df12.to_csv (r'CoronaTwitterData-Pontifex-pop.csv', index = None)\n",
    "df13 = pd.read_json (r'OneDrive_2020-03-18/Raw data/WorldLeaders/CoronaTwitterData-realDonaldTrump.json')\n",
    "df13.to_csv (r'CoronaTwitterData-realDonaldTrump.csv', index = None)"
   ]
  },
  {
   "cell_type": "code",
   "execution_count": 2,
   "metadata": {},
   "outputs": [],
   "source": [
    "df14 = pd.read_json(r'CoronaTwitterData-leehsienloong-Sinagpore.json')\n",
    "df14.to_csv(r'CoronaTwitterData-leehsienloong-Sinagpore.csv',index=None)"
   ]
  },
  {
   "cell_type": "code",
   "execution_count": 3,
   "metadata": {},
   "outputs": [],
   "source": [
    "world_leader_csv = {\"df1\":\"CoronaTwitterData-BorisJohnson-UK.csv\",\"df2\":\"CoronaTwitterData-EmmanuelMacron-Franc.csv\",\"df3\":\"CoronaTwitterData-Jokowi-Indonasia.csv\",\"df4\":\"CoronaTwitterData-JustinTrudeau-canada.csv\",\"df5\":\"CoronaTwitterData-KingSalman-SaudiArab.csv\",\"df6\":\"CoronaTwitterData-lopezobrador_mexico.csv\",\"df7\":\"CoronaTwitterData-MohmamedBinZayed-UAE.csv\",\"df8\":\"CoronaTwitterData-narendramodi.csv\",\"df9\":\"CoronaTwitterData-Pontifex-pop.csv\",\"df10\":\"CoronaTwitterData-realDonaldTrump.csv\",\"df11\":\"CoronaTwitterData-leehsienloong-Sinagpore.csv\"}\n",
    "for key, value in world_leader_csv.items():\n",
    "    key = pd.read_csv(value)\n",
    "    newdf = pd.DataFrame()\n",
    "    #newdf.columns=[\"tweet_id\",\"tweets\"]\n",
    "    new_tweet=[]\n",
    "    for tweet in key['full_text']:\n",
    "        tweet = re.sub('RT @[\\w_]+: ', '', tweet)\n",
    "        new_tweet.append(tweet)\n",
    "    newdf['tweets'] = new_tweet\n",
    "    newdf['tweets'].drop_duplicates(inplace=True)\n",
    "    newdf.to_csv(\"New\"+value)"
   ]
  },
  {
   "cell_type": "code",
   "execution_count": null,
   "metadata": {},
   "outputs": [],
   "source": []
  },
  {
   "cell_type": "code",
   "execution_count": 3,
   "metadata": {},
   "outputs": [],
   "source": [
    "corona_datas = {\"df1\":\"CoronaTwitterData-coronaviruscare.csv\",\"df2\":\"CoronaTwitterDataCOVID-19.csv\",\"df3\":\"CoronaTwitterData-Wuhan.csv\",\"df4\":\"CoronaTwitterData-WuhanCoronavirus.csv\",\"df5\":\"CoronaTwitterData-WuhanSARS.csv\"}\n",
    "for key, value in corona_datas.items():\n",
    "    key = pd.read_csv(value)\n",
    "    newdf = pd.DataFrame()\n",
    "    #newdf.columns=[\"tweet_id\",\"tweets\"]\n",
    "    new_tweet=[]\n",
    "    for tweet in key['full_text']:\n",
    "        tweet = re.sub('RT @[\\w_]+: ', '', tweet)\n",
    "        new_tweet.append(tweet)\n",
    "    newdf['tweets'] = new_tweet\n",
    "    newdf['tweets'].drop_duplicates(inplace=True)\n",
    "    newdf.to_csv(\"New\"+value)"
   ]
  },
  {
   "cell_type": "code",
   "execution_count": null,
   "metadata": {},
   "outputs": [],
   "source": []
  }
 ],
 "metadata": {
  "kernelspec": {
   "display_name": "Python 3",
   "language": "python",
   "name": "python3"
  },
  "language_info": {
   "codemirror_mode": {
    "name": "ipython",
    "version": 3
   },
   "file_extension": ".py",
   "mimetype": "text/x-python",
   "name": "python",
   "nbconvert_exporter": "python",
   "pygments_lexer": "ipython3",
   "version": "3.7.3"
  }
 },
 "nbformat": 4,
 "nbformat_minor": 2
}
