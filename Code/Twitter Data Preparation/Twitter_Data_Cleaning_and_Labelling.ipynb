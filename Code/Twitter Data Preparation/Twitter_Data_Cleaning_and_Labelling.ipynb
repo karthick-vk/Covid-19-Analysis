{
 "cells": [
  {
   "cell_type": "code",
   "execution_count": 38,
   "metadata": {},
   "outputs": [
    {
     "name": "stdout",
     "output_type": "stream",
     "text": [
      "Requirement already satisfied: textblob in d:\\anaconda\\lib\\site-packages (0.15.3)\n",
      "Requirement already satisfied: nltk>=3.1 in d:\\anaconda\\lib\\site-packages (from textblob) (3.4.4)\n",
      "Requirement already satisfied: six in d:\\anaconda\\lib\\site-packages (from nltk>=3.1->textblob) (1.12.0)\n"
     ]
    }
   ],
   "source": [
    "import pandas as pd\n",
    "import numpy as np\n",
    "import json\n",
    "%matplotlib inline \n",
    "import matplotlib as mpl\n",
    "import matplotlib.pyplot as plt\n",
    "mpl.style.use('ggplot') # optional: for ggplot-like style\n",
    "from matplotlib import pyplot\n",
    "import seaborn as sns\n",
    "import scipy.stats\n",
    "from bs4 import BeautifulSoup\n",
    "import re\n",
    "import csv\n",
    "import requests\n",
    "from sklearn.ensemble import RandomForestClassifier\n",
    "import textblob, string  \n",
    "import nltk\n",
    "from sklearn.feature_extraction.text import TfidfVectorizer,CountVectorizer,TfidfTransformer\n",
    "from sklearn import svm\n",
    "from sklearn.metrics import precision_score, recall_score, accuracy_score\n",
    "from sklearn.metrics import classification_report\n",
    "from nltk import sent_tokenize\n",
    "from nltk.corpus import stopwords\n",
    "!pip install textblob\n",
    "from textblob import TextBlob\n",
    "# load functions from textpreprocess.py\n",
    "from textpreprocess import denoise_text, normalize, replace_contractions, remove_non_ascii, to_lowercase, remove_punctuation, replace_numbers, remove_stopwords,lemmatize_verbs"
   ]
  },
  {
   "cell_type": "code",
   "execution_count": 2,
   "metadata": {},
   "outputs": [],
   "source": [
    "def strip_url(text):\n",
    "    new_text = re.sub(r\"http.?://[^\\s]+[\\s]?\", '', text)\n",
    "    if new_text != '':\n",
    "        return new_text\n",
    "    else:\n",
    "        return text"
   ]
  },
  {
   "cell_type": "code",
   "execution_count": 3,
   "metadata": {},
   "outputs": [],
   "source": [
    "#function to convert to lowercase, remove punctuations, remove stopwords\n",
    "def preprocess(text):\n",
    "    text = replace_contractions(text)\n",
    "    text = strip_url(text)\n",
    "    content = nltk.word_tokenize(text)\n",
    "    words = remove_non_ascii(content)\n",
    "    words = to_lowercase(content)\n",
    "    #words = lemmatize_verbs(words)\n",
    "    words = remove_punctuation(content)\n",
    "    words = replace_numbers(words)\n",
    "    #words = remove_stopwords(words)\n",
    "    text = ' '.join(words)\n",
    "    return text"
   ]
  },
  {
   "cell_type": "code",
   "execution_count": 4,
   "metadata": {},
   "outputs": [],
   "source": [
    "df = pd.read_csv('manually_labelled_tweets_for_modelling.csv',encoding='utf-8')"
   ]
  },
  {
   "cell_type": "code",
   "execution_count": 5,
   "metadata": {},
   "outputs": [
    {
     "data": {
      "text/html": [
       "<div>\n",
       "<style scoped>\n",
       "    .dataframe tbody tr th:only-of-type {\n",
       "        vertical-align: middle;\n",
       "    }\n",
       "\n",
       "    .dataframe tbody tr th {\n",
       "        vertical-align: top;\n",
       "    }\n",
       "\n",
       "    .dataframe thead th {\n",
       "        text-align: right;\n",
       "    }\n",
       "</style>\n",
       "<table border=\"1\" class=\"dataframe\">\n",
       "  <thead>\n",
       "    <tr style=\"text-align: right;\">\n",
       "      <th></th>\n",
       "      <th>new_tweets</th>\n",
       "      <th>sentiment</th>\n",
       "      <th>classification</th>\n",
       "    </tr>\n",
       "  </thead>\n",
       "  <tbody>\n",
       "    <tr>\n",
       "      <th>0</th>\n",
       "      <td>#Coronavirus: Greece shuts schools as WHO warn...</td>\n",
       "      <td>anger</td>\n",
       "      <td>reporting</td>\n",
       "    </tr>\n",
       "    <tr>\n",
       "      <th>1</th>\n",
       "      <td>âš ï¸The #coronavirus is spreading within com...</td>\n",
       "      <td>neutral</td>\n",
       "      <td>reporting</td>\n",
       "    </tr>\n",
       "    <tr>\n",
       "      <th>2</th>\n",
       "      <td>Clorox Healthcare Bleach Germicidal Cleaner Re...</td>\n",
       "      <td>neutral</td>\n",
       "      <td>marketing</td>\n",
       "    </tr>\n",
       "    <tr>\n",
       "      <th>3</th>\n",
       "      <td>Diamond Princess reports bringing total confir...</td>\n",
       "      <td>neutral</td>\n",
       "      <td>reporting</td>\n",
       "    </tr>\n",
       "    <tr>\n",
       "      <th>4</th>\n",
       "      <td>Microsoft asks employees in US to work from ho...</td>\n",
       "      <td>anger</td>\n",
       "      <td>reporting</td>\n",
       "    </tr>\n",
       "  </tbody>\n",
       "</table>\n",
       "</div>"
      ],
      "text/plain": [
       "                                          new_tweets sentiment classification\n",
       "0  #Coronavirus: Greece shuts schools as WHO warn...     anger      reporting\n",
       "1  âš ï¸The #coronavirus is spreading within com...   neutral      reporting\n",
       "2  Clorox Healthcare Bleach Germicidal Cleaner Re...   neutral      marketing\n",
       "3  Diamond Princess reports bringing total confir...   neutral      reporting\n",
       "4  Microsoft asks employees in US to work from ho...     anger      reporting"
      ]
     },
     "execution_count": 5,
     "metadata": {},
     "output_type": "execute_result"
    }
   ],
   "source": [
    "df.head()"
   ]
  },
  {
   "cell_type": "code",
   "execution_count": 6,
   "metadata": {},
   "outputs": [],
   "source": [
    "df['new_tweets'] =  df['new_tweets'].apply(preprocess)"
   ]
  },
  {
   "cell_type": "code",
   "execution_count": 7,
   "metadata": {},
   "outputs": [
    {
     "data": {
      "text/html": [
       "<div>\n",
       "<style scoped>\n",
       "    .dataframe tbody tr th:only-of-type {\n",
       "        vertical-align: middle;\n",
       "    }\n",
       "\n",
       "    .dataframe tbody tr th {\n",
       "        vertical-align: top;\n",
       "    }\n",
       "\n",
       "    .dataframe thead th {\n",
       "        text-align: right;\n",
       "    }\n",
       "</style>\n",
       "<table border=\"1\" class=\"dataframe\">\n",
       "  <thead>\n",
       "    <tr style=\"text-align: right;\">\n",
       "      <th></th>\n",
       "      <th>new_tweets</th>\n",
       "      <th>sentiment</th>\n",
       "      <th>classification</th>\n",
       "    </tr>\n",
       "  </thead>\n",
       "  <tbody>\n",
       "    <tr>\n",
       "      <th>0</th>\n",
       "      <td>Coronavirus Greece shuts schools as WHO warns ...</td>\n",
       "      <td>anger</td>\n",
       "      <td>reporting</td>\n",
       "    </tr>\n",
       "    <tr>\n",
       "      <th>1</th>\n",
       "      <td>âš ïThe coronavirus is spreading within commun...</td>\n",
       "      <td>neutral</td>\n",
       "      <td>reporting</td>\n",
       "    </tr>\n",
       "    <tr>\n",
       "      <th>2</th>\n",
       "      <td>Clorox Healthcare Bleach Germicidal Cleaner Re...</td>\n",
       "      <td>neutral</td>\n",
       "      <td>marketing</td>\n",
       "    </tr>\n",
       "    <tr>\n",
       "      <th>3</th>\n",
       "      <td>Diamond Princess reports bringing total confir...</td>\n",
       "      <td>neutral</td>\n",
       "      <td>reporting</td>\n",
       "    </tr>\n",
       "    <tr>\n",
       "      <th>4</th>\n",
       "      <td>Microsoft asks employees in US to work from ho...</td>\n",
       "      <td>anger</td>\n",
       "      <td>reporting</td>\n",
       "    </tr>\n",
       "  </tbody>\n",
       "</table>\n",
       "</div>"
      ],
      "text/plain": [
       "                                          new_tweets sentiment classification\n",
       "0  Coronavirus Greece shuts schools as WHO warns ...     anger      reporting\n",
       "1  âš ïThe coronavirus is spreading within commun...   neutral      reporting\n",
       "2  Clorox Healthcare Bleach Germicidal Cleaner Re...   neutral      marketing\n",
       "3  Diamond Princess reports bringing total confir...   neutral      reporting\n",
       "4  Microsoft asks employees in US to work from ho...     anger      reporting"
      ]
     },
     "execution_count": 7,
     "metadata": {},
     "output_type": "execute_result"
    }
   ],
   "source": [
    "df.head()"
   ]
  },
  {
   "cell_type": "code",
   "execution_count": 8,
   "metadata": {},
   "outputs": [],
   "source": [
    "df['sentiment'].replace(\"neutral\",0,inplace=True)\n",
    "df['sentiment'].replace(\"anger\",1,inplace=True)\n",
    "df['sentiment'].replace(\"sadness\",2,inplace=True)\n",
    "df['sentiment'].replace(\"happy\",3,inplace=True)\n",
    "df['sentiment'].replace(\"hope\",4,inplace=True)"
   ]
  },
  {
   "cell_type": "code",
   "execution_count": 9,
   "metadata": {},
   "outputs": [
    {
     "data": {
      "text/html": [
       "<div>\n",
       "<style scoped>\n",
       "    .dataframe tbody tr th:only-of-type {\n",
       "        vertical-align: middle;\n",
       "    }\n",
       "\n",
       "    .dataframe tbody tr th {\n",
       "        vertical-align: top;\n",
       "    }\n",
       "\n",
       "    .dataframe thead th {\n",
       "        text-align: right;\n",
       "    }\n",
       "</style>\n",
       "<table border=\"1\" class=\"dataframe\">\n",
       "  <thead>\n",
       "    <tr style=\"text-align: right;\">\n",
       "      <th></th>\n",
       "      <th>new_tweets</th>\n",
       "      <th>sentiment</th>\n",
       "      <th>classification</th>\n",
       "    </tr>\n",
       "  </thead>\n",
       "  <tbody>\n",
       "    <tr>\n",
       "      <th>0</th>\n",
       "      <td>Coronavirus Greece shuts schools as WHO warns ...</td>\n",
       "      <td>1</td>\n",
       "      <td>reporting</td>\n",
       "    </tr>\n",
       "    <tr>\n",
       "      <th>1</th>\n",
       "      <td>âš ïThe coronavirus is spreading within commun...</td>\n",
       "      <td>0</td>\n",
       "      <td>reporting</td>\n",
       "    </tr>\n",
       "    <tr>\n",
       "      <th>2</th>\n",
       "      <td>Clorox Healthcare Bleach Germicidal Cleaner Re...</td>\n",
       "      <td>0</td>\n",
       "      <td>marketing</td>\n",
       "    </tr>\n",
       "    <tr>\n",
       "      <th>3</th>\n",
       "      <td>Diamond Princess reports bringing total confir...</td>\n",
       "      <td>0</td>\n",
       "      <td>reporting</td>\n",
       "    </tr>\n",
       "    <tr>\n",
       "      <th>4</th>\n",
       "      <td>Microsoft asks employees in US to work from ho...</td>\n",
       "      <td>1</td>\n",
       "      <td>reporting</td>\n",
       "    </tr>\n",
       "  </tbody>\n",
       "</table>\n",
       "</div>"
      ],
      "text/plain": [
       "                                          new_tweets  sentiment classification\n",
       "0  Coronavirus Greece shuts schools as WHO warns ...          1      reporting\n",
       "1  âš ïThe coronavirus is spreading within commun...          0      reporting\n",
       "2  Clorox Healthcare Bleach Germicidal Cleaner Re...          0      marketing\n",
       "3  Diamond Princess reports bringing total confir...          0      reporting\n",
       "4  Microsoft asks employees in US to work from ho...          1      reporting"
      ]
     },
     "execution_count": 9,
     "metadata": {},
     "output_type": "execute_result"
    }
   ],
   "source": [
    "df.head()"
   ]
  },
  {
   "cell_type": "code",
   "execution_count": 10,
   "metadata": {},
   "outputs": [
    {
     "data": {
      "text/plain": [
       "0    541\n",
       "1    218\n",
       "2    138\n",
       "3     75\n",
       "4     61\n",
       "Name: sentiment, dtype: int64"
      ]
     },
     "execution_count": 10,
     "metadata": {},
     "output_type": "execute_result"
    }
   ],
   "source": [
    "#from sklearn import model_selection, preprocessing, linear_model, naive_bayes, metrics\n",
    "#from sklearn.feature_extraction.text import TfidfVectorizer, CountVectorizer\n",
    "\n",
    "# label encode the target variable \n",
    "#encoder = preprocessing.LabelEncoder()\n",
    "#df['sentiment'] = encoder.fit_transform(df['sentiment'])\n",
    "df['sentiment'].value_counts()"
   ]
  },
  {
   "cell_type": "code",
   "execution_count": 11,
   "metadata": {},
   "outputs": [
    {
     "data": {
      "text/plain": [
       "opinion           489\n",
       "reporting         349\n",
       "precautions       106\n",
       "joke               51\n",
       "marketing          15\n",
       "confusion          11\n",
       "irrelevant          6\n",
       "fakenews            4\n",
       "discrimination      2\n",
       "Name: classification, dtype: int64"
      ]
     },
     "execution_count": 11,
     "metadata": {},
     "output_type": "execute_result"
    }
   ],
   "source": [
    "df['classification'].value_counts()"
   ]
  },
  {
   "cell_type": "code",
   "execution_count": 12,
   "metadata": {},
   "outputs": [],
   "source": [
    "df['classification'].replace(\"opinion\",0,inplace=True)\n",
    "df['classification'].replace(\"reporting\",1,inplace=True)\n",
    "df['classification'].replace(\"precautions\",3,inplace=True)\n",
    "df['classification'].replace(\"joke\",4,inplace=True)\n",
    "df['classification'].replace(\"marketing\",5,inplace=True)\n",
    "df['classification'].replace(\"confusion\",6,inplace=True)\n",
    "df['classification'].replace(\"irrelevant\",7,inplace=True)\n",
    "df['classification'].replace(\"fakenews\",8,inplace=True)\n",
    "df['classification'].replace(\"discrimination\",9,inplace=True)"
   ]
  },
  {
   "cell_type": "code",
   "execution_count": 13,
   "metadata": {},
   "outputs": [
    {
     "data": {
      "text/plain": [
       "0    489\n",
       "1    349\n",
       "3    106\n",
       "4     51\n",
       "5     15\n",
       "6     11\n",
       "7      6\n",
       "8      4\n",
       "9      2\n",
       "Name: classification, dtype: int64"
      ]
     },
     "execution_count": 13,
     "metadata": {},
     "output_type": "execute_result"
    }
   ],
   "source": [
    "df['classification'].value_counts()"
   ]
  },
  {
   "cell_type": "code",
   "execution_count": 14,
   "metadata": {},
   "outputs": [],
   "source": [
    "from sklearn.model_selection import train_test_split, GridSearchCV"
   ]
  },
  {
   "cell_type": "code",
   "execution_count": 15,
   "metadata": {},
   "outputs": [
    {
     "data": {
      "text/plain": [
       "(1033, 4388)"
      ]
     },
     "execution_count": 15,
     "metadata": {},
     "output_type": "execute_result"
    }
   ],
   "source": [
    "vectorizer = TfidfVectorizer()\n",
    "final_features = vectorizer.fit_transform(df['new_tweets']).toarray()\n",
    "final_features.shape"
   ]
  },
  {
   "cell_type": "code",
   "execution_count": 16,
   "metadata": {},
   "outputs": [],
   "source": [
    "from sklearn.pipeline import make_pipeline\n",
    "pipe = make_pipeline(\n",
    "    CountVectorizer(binary=True),\n",
    "    TfidfTransformer(use_idf=True),\n",
    ")\n",
    "tfidf_train_data = pipe.fit_transform(df['new_tweets']) \n",
    "#tfidf_test_data = pipe.transform(testData)"
   ]
  },
  {
   "cell_type": "code",
   "execution_count": 17,
   "metadata": {},
   "outputs": [],
   "source": [
    "y_train = df['sentiment']\n",
    "y_train1 = df['classification']"
   ]
  },
  {
   "cell_type": "code",
   "execution_count": 18,
   "metadata": {},
   "outputs": [
    {
     "data": {
      "text/plain": [
       "(1033, 4388)"
      ]
     },
     "execution_count": 18,
     "metadata": {},
     "output_type": "execute_result"
    }
   ],
   "source": [
    "tfidf_train_data.shape"
   ]
  },
  {
   "cell_type": "code",
   "execution_count": 19,
   "metadata": {},
   "outputs": [
    {
     "data": {
      "text/plain": [
       "RandomForestClassifier(bootstrap=True, class_weight=None, criterion='gini',\n",
       "                       max_depth=None, max_features='auto', max_leaf_nodes=None,\n",
       "                       min_impurity_decrease=0.0, min_impurity_split=None,\n",
       "                       min_samples_leaf=1, min_samples_split=2,\n",
       "                       min_weight_fraction_leaf=0.0, n_estimators=100,\n",
       "                       n_jobs=None, oob_score=False, random_state=None,\n",
       "                       verbose=0, warm_start=False)"
      ]
     },
     "execution_count": 19,
     "metadata": {},
     "output_type": "execute_result"
    }
   ],
   "source": [
    "clf=RandomForestClassifier(n_estimators=100)\n",
    "clf1=RandomForestClassifier(n_estimators=100)\n",
    "clf.fit(tfidf_train_data, y_train) #sentiment\n",
    "clf1.fit(tfidf_train_data, y_train1) #classification"
   ]
  },
  {
   "cell_type": "code",
   "execution_count": 31,
   "metadata": {},
   "outputs": [],
   "source": [
    "def number_to_sentiment():\n",
    "    df['sentiment'].replace(0,\"neutral\",inplace=True)\n",
    "    df['sentiment'].replace(1,\"anger\",inplace=True)\n",
    "    df['sentiment'].replace(2,\"sadness\",inplace=True)\n",
    "    df['sentiment'].replace(3,\"happy\",inplace=True)\n",
    "    df['sentiment'].replace(4,\"hope\",inplace=True)\n",
    "\n",
    "def number_to_classification():\n",
    "    df['classification'].replace(0,\"opinion\",inplace=True)\n",
    "    df['classification'].replace(1,\"reporting\",inplace=True)\n",
    "    df['classification'].replace(2,\"precautions\",inplace=True)\n",
    "    df['classification'].replace(3,\"joke\",inplace=True)\n",
    "    df['classification'].replace(4,\"marketing\",inplace=True)\n",
    "    df['classification'].replace(5,\"confusion\",inplace=True)\n",
    "    df['classification'].replace(6,\"irrelevant\",inplace=True)\n",
    "    df['classification'].replace(7,\"fakenews\",inplace=True)\n",
    "    df['classification'].replace(8,\"discrimination\",inplace=True)\n"
   ]
  },
  {
   "cell_type": "code",
   "execution_count": 32,
   "metadata": {},
   "outputs": [],
   "source": [
    "csv_list = \"NewCoronaTwitterData-BorisJohnson-UK.csv\",\"NewCoronaTwitterData-EmmanuelMacron-Franc.csv\",\"NewCoronaTwitterData-Jokowi-Indonasia.csv\",\"NewCoronaTwitterData-JustinTrudeau-canada.csv\",\"NewCoronaTwitterData-KingSalman-SaudiArab.csv\",\"NewCoronaTwitterData-lopezobrador_mexico.csv\",\"NewCoronaTwitterData-MohmamedBinZayed-UAE.csv\",\"NewCoronaTwitterData-narendramodi.csv\",\"NewCoronaTwitterData-Pontifex-pop.csv\",\"NewCoronaTwitterData-realDonaldTrump.csv\",\"NewCoronaTwitterData-leehsienloong-Sinagpore.csv\""
   ]
  },
  {
   "cell_type": "code",
   "execution_count": 33,
   "metadata": {},
   "outputs": [],
   "source": [
    "for val in csv_list:\n",
    "    df = pd.read_csv(val)\n",
    "    df['tweets'] =  df['tweets'].apply(preprocess)\n",
    "    df_data = pipe.transform(df['tweets'])\n",
    "    senti_prediction = clf.predict(df_data)\n",
    "    class_prediction = clf1.predict(df_data)\n",
    "    a = senti_prediction.flatten()\n",
    "    df['sentiment']=a\n",
    "    b = class_prediction.flatten()\n",
    "    df['classification']=b\n",
    "    number_to_sentiment()\n",
    "    number_to_classification()\n",
    "    df.to_csv('Labelled'+val)"
   ]
  },
  {
   "cell_type": "code",
   "execution_count": 2,
   "metadata": {},
   "outputs": [],
   "source": [
    "corona_csv_list = {\"NewCoronaTwitterData-coronaviruscare.csv\",\"NewCoronaTwitterDataCOVID-19.csv\",\"NewCoronaTwitterData-Wuhan.csv\",\"NewCoronaTwitterData-WuhanCoronavirus.csv\",\"NewCoronaTwitterData-WuhanSARS.csv\"}\n"
   ]
  },
  {
   "cell_type": "code",
   "execution_count": 25,
   "metadata": {},
   "outputs": [],
   "source": [
    "for val in corona_csv_list:\n",
    "    df = pd.read_csv(val)\n",
    "    df['tweets'] =  df['tweets'].apply(preprocess)\n",
    "    df_data = pipe.transform(df['tweets'])\n",
    "    senti_prediction = clf.predict(df_data)\n",
    "    class_prediction = clf1.predict(df_data)\n",
    "    a = senti_prediction.flatten()\n",
    "    df['sentiment']=a\n",
    "    b = class_prediction.flatten()\n",
    "    df['classification']=b\n",
    "    number_to_sentiment()\n",
    "    number_to_classification()\n",
    "    df.to_csv('Labelled'+val)"
   ]
  },
  {
   "cell_type": "code",
   "execution_count": 34,
   "metadata": {},
   "outputs": [],
   "source": []
  },
  {
   "cell_type": "code",
   "execution_count": null,
   "metadata": {},
   "outputs": [],
   "source": []
  },
  {
   "cell_type": "code",
   "execution_count": null,
   "metadata": {},
   "outputs": [],
   "source": [
    "csv_list = \"NewCoronaTwitterData-BorisJohnson-UK.csv\",\"NewCoronaTwitterData-EmmanuelMacron-Franc.csv\",\"NewCoronaTwitterData-Jokowi-Indonasia.csv\",\"NewCoronaTwitterData-JustinTrudeau-canada.csv\",\"NewCoronaTwitterData-KingSalman-SaudiArab.csv\",\"NewCoronaTwitterData-lopezobrador_mexico.csv\",\"NewCoronaTwitterData-MohmamedBinZayed-UAE.csv\",\"NewCoronaTwitterData-narendramodi.csv\",\"NewCoronaTwitterData-Pontifex-pop.csv\",\"NewCoronaTwitterData-realDonaldTrump.csv\",\"NewCoronaTwitterData-leehsienloong-Sinagpore.csv\""
   ]
  },
  {
   "cell_type": "code",
   "execution_count": 37,
   "metadata": {},
   "outputs": [],
   "source": [
    "for val in csv_list:\n",
    "    df = pd.read_csv(val)\n",
    "    df['tweets'] =  df['tweets'].apply(preprocess)\n",
    "    # print tweets\n",
    "    # Use textblob to fetch sentimental of the tweet\n",
    "    sentiment=[]\n",
    "    sent_polarity = []\n",
    "    sent_subjectivity = []\n",
    "    for tweet in df['tweets']:\n",
    "        analyse = TextBlob(tweet)\n",
    "        sent_polarity.append(analyse.sentiment.polarity)\n",
    "        sent_subjectivity.append(analyse.sentiment.subjectivity)\n",
    "        if (analyse.sentiment.polarity > 0) :\n",
    "            sentiment.append(\"positive\")\n",
    "        elif (analyse.sentiment.polarity < 0):\n",
    "            sentiment.append(\"negative\")\n",
    "        else:\n",
    "            sentiment.append(\"neutral\")\n",
    "#print(sentiment)\n",
    "    df['sentiment'] = sentiment\n",
    "    df.to_csv('Labelled_'+val)"
   ]
  },
  {
   "cell_type": "code",
   "execution_count": null,
   "metadata": {},
   "outputs": [],
   "source": []
  }
 ],
 "metadata": {
  "kernelspec": {
   "display_name": "Python 3",
   "language": "python",
   "name": "python3"
  },
  "language_info": {
   "codemirror_mode": {
    "name": "ipython",
    "version": 3
   },
   "file_extension": ".py",
   "mimetype": "text/x-python",
   "name": "python",
   "nbconvert_exporter": "python",
   "pygments_lexer": "ipython3",
   "version": "3.7.3"
  }
 },
 "nbformat": 4,
 "nbformat_minor": 2
}
